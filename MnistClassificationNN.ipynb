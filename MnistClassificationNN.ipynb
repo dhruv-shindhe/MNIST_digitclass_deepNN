{
 "cells": [
  {
   "cell_type": "code",
   "execution_count": 1,
   "metadata": {},
   "outputs": [
    {
     "name": "stderr",
     "output_type": "stream",
     "text": [
      "Using TensorFlow backend.\n"
     ]
    }
   ],
   "source": [
    "import numpy as np\n",
    "import matplotlib.pyplot as plt\n",
    "import keras\n",
    "from keras.datasets import mnist\n",
    "from keras.models import Sequential\n",
    "from keras.layers import Dense\n",
    "from keras.optimizers import Adam\n",
    "from keras.utils.np_utils import to_categorical"
   ]
  },
  {
   "cell_type": "code",
   "execution_count": 2,
   "metadata": {},
   "outputs": [],
   "source": [
    "import random"
   ]
  },
  {
   "cell_type": "code",
   "execution_count": 3,
   "metadata": {},
   "outputs": [],
   "source": [
    "np.random.seed(0)"
   ]
  },
  {
   "cell_type": "code",
   "execution_count": 4,
   "metadata": {},
   "outputs": [],
   "source": [
    "(X_train, y_train), (X_test, y_test) = mnist.load_data()"
   ]
  },
  {
   "cell_type": "code",
   "execution_count": 5,
   "metadata": {},
   "outputs": [],
   "source": [
    "assert(X_train.shape[0] == y_train.shape[0]), \"The number of images is not equal to the number of labels in training set.\"\n",
    "assert(X_test.shape[0] == y_test.shape[0]), \"The number of images is not equal to the number of labels in test set.\"\n",
    "assert(X_train.shape[1:] == (28,28)), \"The dimensions of the images are not 28x28 in training set.\" \n",
    "assert(X_test.shape[1:] == (28,28)), \"The dimensions of the images are not 28x28 in test set.\""
   ]
  },
  {
   "cell_type": "code",
   "execution_count": 6,
   "metadata": {},
   "outputs": [
    {
     "data": {
      "image/png": "[encoded data removed]",
      "text/plain": [
       "<Figure size 360x576 with 50 Axes>"
      ]
     },
     "metadata": {
      "needs_background": "light"
     },
     "output_type": "display_data"
    }
   ],
   "source": [
    "n_cols=5\n",
    "n_classes=10\n",
    "num_of_samples=[]\n",
    "fig, axis = plt.subplots(nrows=n_classes, ncols = n_cols, figsize=(5, 8))\n",
    "fig.tight_layout()\n",
    "\n",
    "\n",
    "for i in range(n_cols):\n",
    "    for j in range(n_classes):\n",
    "        x_selected = X_train[y_train==j]\n",
    "        axis[j][i].imshow(x_selected[random.randint(0, len(x_selected - 1)),:,:,],cmap=plt.get_cmap(\"gray\"))\n",
    "        axis[j][i].axis(\"off\")\n",
    "        if i == 2:\n",
    "            axis[j][i].set_title(str(j))\n",
    "            num_of_samples.append(len(x_selected))\n",
    "\n",
    "    "
   ]
  },
  {
   "cell_type": "code",
   "execution_count": 7,
   "metadata": {},
   "outputs": [],
   "source": [
    "y_train = to_categorical(y_train, 10)\n",
    "y_test = to_categorical(y_test, 10)\n",
    "\n",
    "X_train = X_train/255 \n",
    "X_test = X_test/255\n",
    "\n",
    "num_pixels = 784\n",
    "X_train = X_train.reshape(X_train.shape[0], num_pixels)\n",
    "X_test = X_test.reshape(X_test.shape[0], num_pixels)\n"
   ]
  },
  {
   "cell_type": "code",
   "execution_count": 8,
   "metadata": {},
   "outputs": [
    {
     "name": "stdout",
     "output_type": "stream",
     "text": [
      "WARNING:tensorflow:From C:\\ProgramData\\Anaconda3\\lib\\site-packages\\tensorflow\\python\\framework\\op_def_library.py:263: colocate_with (from tensorflow.python.framework.ops) is deprecated and will be removed in a future version.\n",
      "Instructions for updating:\n",
      "Colocations handled automatically by placer.\n",
      "WARNING:tensorflow:From C:\\ProgramData\\Anaconda3\\lib\\site-packages\\tensorflow\\python\\ops\\math_ops.py:3066: to_int32 (from tensorflow.python.ops.math_ops) is deprecated and will be removed in a future version.\n",
      "Instructions for updating:\n",
      "Use tf.cast instead.\n",
      "Train on 54000 samples, validate on 6000 samples\n",
      "Epoch 1/10\n",
      "54000/54000 [==============================] - 2s 39us/step - loss: 0.6434 - acc: 0.7998 - val_loss: 0.3292 - val_acc: 0.9020\n",
      "Epoch 2/10\n",
      "54000/54000 [==============================] - 1s 22us/step - loss: 0.3874 - acc: 0.8866 - val_loss: 0.2782 - val_acc: 0.9187\n",
      "Epoch 3/10\n",
      "54000/54000 [==============================] - 1s 22us/step - loss: 0.3408 - acc: 0.8991 - val_loss: 0.2818 - val_acc: 0.9160\n",
      "Epoch 4/10\n",
      "54000/54000 [==============================] - 1s 23us/step - loss: 0.3238 - acc: 0.9033 - val_loss: 0.2708 - val_acc: 0.9160\n",
      "Epoch 5/10\n",
      "54000/54000 [==============================] - 1s 22us/step - loss: 0.3109 - acc: 0.9080 - val_loss: 0.2408 - val_acc: 0.9268\n",
      "Epoch 6/10\n",
      "54000/54000 [==============================] - 1s 24us/step - loss: 0.3000 - acc: 0.9107 - val_loss: 0.2443 - val_acc: 0.9302\n",
      "Epoch 7/10\n",
      "54000/54000 [==============================] - 1s 22us/step - loss: 0.2910 - acc: 0.9130 - val_loss: 0.2573 - val_acc: 0.9233\n",
      "Epoch 8/10\n",
      "54000/54000 [==============================] - 1s 24us/step - loss: 0.2880 - acc: 0.9142 - val_loss: 0.2693 - val_acc: 0.9198\n",
      "Epoch 9/10\n",
      "54000/54000 [==============================] - 1s 23us/step - loss: 0.2826 - acc: 0.9160 - val_loss: 0.2412 - val_acc: 0.9260\n",
      "Epoch 10/10\n",
      "54000/54000 [==============================] - 1s 26us/step - loss: 0.2776 - acc: 0.9166 - val_loss: 0.2342 - val_acc: 0.9293\n"
     ]
    },
    {
     "data": {
      "text/plain": [
       "<keras.callbacks.History at 0x1ab066dd8d0>"
      ]
     },
     "execution_count": 8,
     "metadata": {},
     "output_type": "execute_result"
    }
   ],
   "source": [
    "model =Sequential ()\n",
    "model.add(Dense(units=10,input_shape=(num_pixels,),activation='relu'))\n",
    "model.add(Dense(30,activation='relu'))\n",
    "model.add(Dense(10,activation='relu'))\n",
    "model.add(Dense(10,activation='softmax'))\n",
    "model.compile(Adam(lr=0.01),loss='categorical_crossentropy',metrics=['accuracy'])\n",
    "model.fit(X_train,y_train,validation_split=0.1, epochs = 10, batch_size = 200, verbose = 1, shuffle = 1)"
   ]
  },
  {
   "cell_type": "code",
   "execution_count": 9,
   "metadata": {
    "scrolled": true
   },
   "outputs": [
    {
     "name": "stdout",
     "output_type": "stream",
     "text": [
      "10000/10000 [==============================] - 0s 27us/step\n",
      "<class 'list'>\n",
      "Test score: 0.29408206003010273\n",
      "Test accuracy: 0.9134\n"
     ]
    }
   ],
   "source": [
    "score=model.evaluate(X_test,y_test)\n",
    "print(type(score))\n",
    "print('Test score:', score[0])\n",
    "print('Test accuracy:', score[1])"
   ]
  },
  {
   "cell_type": "code",
   "execution_count": 10,
   "metadata": {},
   "outputs": [
    {
     "name": "stdout",
     "output_type": "stream",
     "text": [
      "(28, 28)\n"
     ]
    },
    {
     "data": {
      "image/png": "[encoded data removed]",
      "text/plain": [
       "<Figure size 432x288 with 1 Axes>"
      ]
     },
     "metadata": {
      "needs_background": "light"
     },
     "output_type": "display_data"
    }
   ],
   "source": [
    "import cv2\n",
    "imgpath = \"C:\\\\Users\\\\dhruv\\\\OneDrive\\\\Desktop\\\\2.png\"\n",
    "cv2.imread(imgpath)\n",
    "img=cv2.imread(imgpath)\n",
    "img = cv2.resize(img, (28, 28))\n",
    "img=cv2.cvtColor(img,cv2.COLOR_BGR2GRAY)\n",
    "img = cv2.bitwise_not(img)\n",
    "plt.imshow(img,cmap=plt.get_cmap('gray'))\n",
    "print(img.shape)"
   ]
  },
  {
   "cell_type": "code",
   "execution_count": 11,
   "metadata": {},
   "outputs": [
    {
     "name": "stdout",
     "output_type": "stream",
     "text": [
      "predicted digit: [2]\n"
     ]
    }
   ],
   "source": [
    "img = img/255\n",
    "img = img.reshape(1, 784)\n",
    "\n",
    "prediction = model.predict_classes(img)\n",
    "print(\"predicted digit:\", str(prediction))"
   ]
  },
  {
   "cell_type": "code",
   "execution_count": 12,
   "metadata": {},
   "outputs": [
    {
     "name": "stdout",
     "output_type": "stream",
     "text": [
      "Test score: 0.29408206003010273\n",
      "Test accuracy: 0.9134\n"
     ]
    }
   ],
   "source": [
    "score = model.evaluate(X_test, y_test, verbose=0)\n",
    "\n",
    "print('Test score:', score[0])\n",
    "print('Test accuracy:', score[1])"
   ]
  }
 ],
 "metadata": {
  "kernelspec": {
   "display_name": "Python 3",
   "language": "python",
   "name": "python3"
  },
  "language_info": {
   "codemirror_mode": {
    "name": "ipython",
    "version": 3
   },
   "file_extension": ".py",
   "mimetype": "text/x-python",
   "name": "python",
   "nbconvert_exporter": "python",
   "pygments_lexer": "ipython3",
   "version": "3.7.1"
  }
 },
 "nbformat": 4,
 "nbformat_minor": 2
}
